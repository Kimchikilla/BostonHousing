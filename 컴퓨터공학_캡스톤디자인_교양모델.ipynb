{
  "nbformat": 4,
  "nbformat_minor": 0,
  "metadata": {
    "colab": {
      "provenance": [],
      "mount_file_id": "1AfXKY86EJCLabebvvr-X_8mgBUI65Vsm",
      "authorship_tag": "ABX9TyPpyKL/dgcP3Re/nS29yr6y",
      "include_colab_link": true
    },
    "kernelspec": {
      "name": "python3",
      "display_name": "Python 3"
    },
    "language_info": {
      "name": "python"
    }
  },
  "cells": [
    {
      "cell_type": "markdown",
      "metadata": {
        "id": "view-in-github",
        "colab_type": "text"
      },
      "source": [
        "<a href=\"https://colab.research.google.com/github/Kimchikilla/BostonHousing/blob/main/%EC%BB%B4%ED%93%A8%ED%84%B0%EA%B3%B5%ED%95%99_%EC%BA%A1%EC%8A%A4%ED%86%A4%EB%94%94%EC%9E%90%EC%9D%B8_%EA%B5%90%EC%96%91%EB%AA%A8%EB%8D%B8.ipynb\" target=\"_parent\"><img src=\"https://colab.research.google.com/assets/colab-badge.svg\" alt=\"Open In Colab\"/></a>"
      ]
    },
    {
      "cell_type": "code",
      "execution_count": null,
      "metadata": {
        "id": "7Y_kicSLJEck",
        "colab": {
          "base_uri": "https://localhost:8080/"
        },
        "outputId": "578f2512-ac19-465a-e8d3-5acf047a021d"
      },
      "outputs": [
        {
          "output_type": "stream",
          "name": "stdout",
          "text": [
            "학기를 입력하세요: 1\n",
            "\n",
            "학과를 선택하세요:\n",
            "1. 컴퓨터공학과\n",
            "2. 도시계획학과\n",
            "3. 게임소프트웨어학과\n",
            "\n",
            "학과 번호를 입력하세요: 1\n",
            "\n",
            "추천된 상위 10개 교과목의 과목코드:\n",
            "['21995-51', '21995-03', '21995-02', '24699-04', '24699-03', '24699-01', '24699-05', '22434-51', '22434-03', '22434-08', '22434-04', '38455-02', '38455-01', '37610-01', '37610-02', '22377-02', '22377-01', '22377-03', '38465-01', '44667-51', '44667-01', '27274-01', '21272-01', '21272-02']\n"
          ]
        }
      ],
      "source": [
        "import pandas as pd\n",
        "import numpy as np\n",
        "from sklearn.metrics.pairwise import cosine_similarity\n",
        "\n",
        "# 교과목 추천 함수\n",
        "def recommend_courses(semester, major, df, top_n=10):\n",
        "    # 데이터 전처리: 해당 학기와 전공으로 필터링\n",
        "    df_filtered = df[(df['학기'] == semester) & (df['전공'] == major) & (df['교과목명'].notna())]\n",
        "\n",
        "    # 사용자 기반 협업 필터링을 위한 피벗 테이블 생성\n",
        "    course_matrix = df_filtered.pivot_table(index='학번', columns='교과목명', aggfunc='size').fillna(0)\n",
        "\n",
        "    # 코사인 유사도 계산\n",
        "    student_similarity = cosine_similarity(course_matrix)\n",
        "\n",
        "    # 유사도를 활용한 과목 추천 점수 계산\n",
        "    similarity_scores = np.mean(student_similarity, axis=1)\n",
        "    course_scores = course_matrix.T.dot(similarity_scores)\n",
        "    course_scores = pd.Series(course_scores, index=course_matrix.columns)\n",
        "\n",
        "    # 상위 N개 과목 추천\n",
        "    recommended_courses = course_scores.nlargest(top_n)\n",
        "\n",
        "    # 과목코드와 매칭\n",
        "    recommended_data = df_filtered[['교과목명', '과목코드']].drop_duplicates().set_index('교과목명')\n",
        "    recommended_codes = recommended_data.loc[recommended_courses.index, '과목코드']\n",
        "\n",
        "    return recommended_codes\n",
        "\n",
        "# 사용자로부터 학기와 학과를 선택하도록 하는 함수\n",
        "def get_user_input():\n",
        "    semester = int(input(\"학기를 입력하세요: \"))\n",
        "\n",
        "    # 파일 로드\n",
        "    file_path = '/content/drive/MyDrive/24년 2학기 캡스톤 디자인/교양 가상데이터 최종본.csv'\n",
        "    df_sheet1 = pd.read_csv(file_path)\n",
        "\n",
        "    # 학과 목록을 불러와 중복 제거하고 NaN 제거\n",
        "    majors = df_sheet1['전공'].dropna().unique()\n",
        "    print(\"\\n학과를 선택하세요:\")\n",
        "    for i, major in enumerate(majors, 1):\n",
        "        print(f\"{i}. {major}\")\n",
        "\n",
        "    major_choice = int(input(\"\\n학과 번호를 입력하세요: \"))\n",
        "    selected_major = majors[major_choice - 1]\n",
        "\n",
        "    # 과목 추천\n",
        "    recommended_codes = recommend_courses(semester, selected_major, df_sheet1)\n",
        "\n",
        "    print(\"\\n추천된 상위 10개 교과목의 과목코드:\")\n",
        "    print(recommended_codes.to_list())\n",
        "\n",
        "# 사용자 데이터 입력 함수 호출\n",
        "get_user_input()\n"
      ]
    }
  ]
}